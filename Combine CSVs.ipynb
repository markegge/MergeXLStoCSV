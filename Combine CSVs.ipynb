{
 "cells": [
  {
   "cell_type": "code",
   "execution_count": null,
   "metadata": {
    "collapsed": false
   },
   "outputs": [],
   "source": [
    "import xlrd\n",
    "import glob\n",
    "import csv\n",
    "import re\n",
    "import sys\n",
    "import time\n",
    "#from multiprocessing import Pool\n",
    "from multiprocessing.dummy import Pool"
   ]
  },
  {
   "cell_type": "code",
   "execution_count": null,
   "metadata": {
    "collapsed": false
   },
   "outputs": [],
   "source": [
    "header = None\n",
    "def process_xls(filename):\n",
    "    global header\n",
    "    book = xlrd.open_workbook(filename, on_demand=True)\n",
    "    #f = open(filename[:-4] + \".csv\", 'wb')\n",
    "    \n",
    "    f = open(\"combined.csv\", 'a')\n",
    "    output_writer = csv.writer(f, quoting=csv.QUOTE_NONNUMERIC)\n",
    "\n",
    "    print (\"Opened \", filename, \" with \", book.nsheets, \" sheets.\")\n",
    "    #print book.sheet_names()\n",
    "    total_rows = 0\n",
    "    processed_rows = 0\n",
    "    for i in range(book.nsheets):\n",
    "        sheet = book.sheet_by_index(i)\n",
    "        print (\"sheet:\", i, sheet.name)\n",
    "        total_rows += sheet.nrows\n",
    "        \n",
    "        offset = 0\n",
    "        if header is None:\n",
    "            header = sheet.row_values(0)            \n",
    "        elif sheet.row_values(0) == header:\n",
    "            offset = 1\n",
    "            \n",
    "        for row in range(offset, sheet.nrows):\n",
    "            row_values = sheet.row_values(row)\n",
    "            row_types = sheet.row_types(row)\n",
    "            for idx, typ in enumerate(row_types):\n",
    "                if typ == xlrd.XL_CELL_NUMBER:\n",
    "                    t = float(row_values[idx])\n",
    "                    if t.is_integer():\n",
    "                        row_values[idx] = int(t)\n",
    "                    else: \n",
    "                        row_values[idx] = t\n",
    "            output_writer.writerow(row_values)\n",
    "            processed_rows += 1\n",
    "        book.unload_sheet(i)\n",
    "    book.release_resources()\n",
    "    f.close()\n",
    "    print (\"Wrote \", processed_rows, \"of \", total_rows, \" total rows\")\n",
    "    return (processed_rows, total_rows)"
   ]
  },
  {
   "cell_type": "code",
   "execution_count": null,
   "metadata": {
    "collapsed": false
   },
   "outputs": [],
   "source": [
    "start = time.time() \n",
    "xls_names = glob.glob(\"*.xls\")   \n",
    "\n",
    "#header_values = get_header(file_names[0]) # write header\n",
    "#print \"Header values: \", header_values\n",
    "#output_writer.writerow(header_values) # writer.send(header_values)\n",
    "\n",
    "\"\"\"\n",
    "print \"Starting pools.\"   \n",
    "pool = Pool(4) # Sets the pool size to 4\n",
    "pool.imap_unordered(process_xls, xls_names)\n",
    "pool.close() # no more work\n",
    "pool.join() # wait for completion\n",
    "\"\"\"\n",
    "results = []\n",
    "for file in xls_names:\n",
    "    result = process_xls(file)\n",
    "    results.append(result)\n",
    "\n",
    "end = time.time()\n",
    "elapsed_seconds = float(\"%.2f\" % (end - start))\n",
    "print (\"Execution time (seconds):\", elapsed_seconds)\n",
    "\n",
    "processed, total = 0, 0\n",
    "for (p, t) in results:\n",
    "    processed += p\n",
    "    total += t\n",
    "print (\"Processed %s out of total %s\" % (processed, total))\n",
    "\n",
    "#csv_names = glob.glob(\"tmp\\*.csv\")\n",
    "#for csv in csv_names:\n",
    "#    os.remove(csv)\n",
    "#os.rmdir(\"tmp\")"
   ]
  },
  {
   "cell_type": "code",
   "execution_count": null,
   "metadata": {
    "collapsed": false
   },
   "outputs": [],
   "source": [
    "processed, total = 0, 0\n",
    "for (p, t) in results:\n",
    "    processed += p\n",
    "    total += t\n",
    "print \"Processed %s out of total %s\" % (processed, total)"
   ]
  },
  {
   "cell_type": "code",
   "execution_count": null,
   "metadata": {
    "collapsed": true
   },
   "outputs": [],
   "source": []
  }
 ],
 "metadata": {
  "kernelspec": {
   "display_name": "Python 3",
   "language": "python",
   "name": "python3"
  },
  "language_info": {
   "codemirror_mode": {
    "name": "ipython",
    "version": 3
   },
   "file_extension": ".py",
   "mimetype": "text/x-python",
   "name": "python",
   "nbconvert_exporter": "python",
   "pygments_lexer": "ipython3",
   "version": "3.6.0"
  }
 },
 "nbformat": 4,
 "nbformat_minor": 0
}
